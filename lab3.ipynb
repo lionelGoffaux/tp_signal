{
 "cells": [
  {
   "cell_type": "code",
   "execution_count": 2,
   "metadata": {},
   "outputs": [
    {
     "ename": "ModuleNotFoundError",
     "evalue": "No module named 'rezmord'",
     "output_type": "error",
     "traceback": [
      "\u001b[0;31m---------------------------------------------------------------------------\u001b[0m",
      "\u001b[0;31mModuleNotFoundError\u001b[0m                       Traceback (most recent call last)",
      "\u001b[0;32m<ipython-input-2-9caad374262a>\u001b[0m in \u001b[0;36m<module>\u001b[0;34m\u001b[0m\n\u001b[1;32m      3\u001b[0m \u001b[0;32mimport\u001b[0m \u001b[0mscipy\u001b[0m\u001b[0;34m.\u001b[0m\u001b[0msignal\u001b[0m \u001b[0;32mas\u001b[0m \u001b[0msgl\u001b[0m\u001b[0;34m\u001b[0m\u001b[0;34m\u001b[0m\u001b[0m\n\u001b[1;32m      4\u001b[0m \u001b[0;32mimport\u001b[0m \u001b[0mutils\u001b[0m\u001b[0;34m\u001b[0m\u001b[0;34m\u001b[0m\u001b[0m\n\u001b[0;32m----> 5\u001b[0;31m \u001b[0;32mimport\u001b[0m \u001b[0mrezmord\u001b[0m\u001b[0;34m\u001b[0m\u001b[0;34m\u001b[0m\u001b[0m\n\u001b[0m",
      "\u001b[0;31mModuleNotFoundError\u001b[0m: No module named 'rezmord'"
     ]
    }
   ],
   "source": [
    "import numpy as np\n",
    "import matplotlib.pyplot as plt\n",
    "import scipy.signal as sgl\n",
    "import utils\n",
    "import rezmord"
   ]
  },
  {
   "cell_type": "markdown",
   "metadata": {},
   "source": [
    "# 3.1 Introduction\n",
    "Digital filtering is one of the major applications of signal processing.\n",
    "We will discuss here the problem of approximation and synthesis of digital filters. As\n",
    "was already the case in Theory of Circuits, we will begin by examining the possibilities\n",
    "of simple cells of the second order. We will then continue with the synthesis of higher\n",
    "order filters.\n",
    "# 3.2 Python functions used\n",
    "The functions ellipord and ellip of scipy.signal will be used to create the\n",
    "approximation and synthesis of the digital recursif filters of Cauer of higher order,\n",
    "(non linear phase IIR filters), while the functions rezmord from the file rezemord.py\n",
    "and the function rezem from scipy.signal will be used to create the approximatioin\n",
    "and synthesis of the non recursif digital filters of higher order (linear phase FRI\n",
    "filters).\n",
    "# 3.3 Digital filtering\n",
    "## 3.3.1 Approximation of second order filters\n",
    "### Q1)\n",
    "We consider a useful signal composed of a sinusoid at 120 Hz $\\pm$ 1 Hz, and whose\n",
    "amplitude is of the order of 20 V. This signal is superimposed on two interfering\n",
    "signals: the mains voltage at 50 Hz  0,1 Hz of 220 V amplitude, and white\n",
    "noise. Everything is sampled at 400 Hz.\n",
    "We want to create a simple digital filter, consisting of 2 cells of the second\n",
    "degree (a band-stop and a band-pass), which makes it possible to isolate as\n",
    "much as possible the useful signal from the signals to which it is mixed. It is also\n",
    "requested that the amplitude of the useful signal is not modified by more than\n",
    "1%.On demande de créer un script labo441.py qui permette de:\n",
    "\n",
    "1. Calculate de transfer functions of these two cells (determin their respective $\\rho_d$\n",
    "and $\\theta_d$ ).\n",
    "2. For each cell, check the frequency response as well as the positions of the\n",
    "zeros and poles.\n",
    "3. Check the frequency response of the entire filter as well as the positions of the\n",
    "zeros and poles."
   ]
  },
  {
   "cell_type": "code",
   "execution_count": null,
   "metadata": {},
   "outputs": [],
   "source": []
  },
  {
   "cell_type": "code",
   "execution_count": null,
   "metadata": {},
   "outputs": [],
   "source": []
  },
  {
   "cell_type": "markdown",
   "metadata": {},
   "source": [
    "## 3.3.2 Approximation of higher order filters\n",
    "### Q2)\n",
    "We want to create the approximation of a low-pass digital filter (with normalized\n",
    "frequency : fe=1)with the following specifications :\n",
    "bandwidth : 0 to 0.2 Hz with a tolerance of 0.1 dB (in total)\n",
    "Attenuated band : 0.25 to 0.5 Hz with the attenuation of, at least, 60 dB.\n",
    "You are asked to:\n",
    "\n",
    "1. Write a script labo442.py that give :\n",
    "    1. A recursif filter (of Cauer)\n",
    "    2. A linear phase non recursif filter  \n",
    "With the following specifications :\n",
    "2. For each filter :\n",
    "    1. Visualize the frequency response and the impulse response.\n",
    "    2. Visualize the positions of the zeros and poles.\n",
    "3. verifier that the specifications are met.\n",
    "4. Compare the order of the filters and estimat"
   ]
  },
  {
   "cell_type": "code",
   "execution_count": null,
   "metadata": {},
   "outputs": [],
   "source": []
  },
  {
   "cell_type": "code",
   "execution_count": null,
   "metadata": {},
   "outputs": [],
   "source": []
  }
 ],
 "metadata": {
  "kernelspec": {
   "display_name": "Python 3.8.3 64-bit ('venv': venv)",
   "language": "python",
   "name": "python38364bitvenvvenv9f67c094fca0461082babafadf8d592a"
  },
  "language_info": {
   "codemirror_mode": {
    "name": "ipython",
    "version": 3
   },
   "file_extension": ".py",
   "mimetype": "text/x-python",
   "name": "python",
   "nbconvert_exporter": "python",
   "pygments_lexer": "ipython3",
   "version": "3.8.3"
  }
 },
 "nbformat": 4,
 "nbformat_minor": 4
}
